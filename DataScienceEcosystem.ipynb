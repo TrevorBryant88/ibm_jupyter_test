{
 "cells": [
  {
   "cell_type": "markdown",
   "id": "b629cf98",
   "metadata": {},
   "source": [
    "# Data Science Tools and Ecosystem"
   ]
  },
  {
   "cell_type": "markdown",
   "id": "b1ee01ed",
   "metadata": {},
   "source": [
    "In this notebook, Data Science Tools and Ecosystem are summarized."
   ]
  },
  {
   "cell_type": "markdown",
   "id": "03b86806",
   "metadata": {},
   "source": [
    "Some of the popular languages that Data Scientists use are:\n",
    "1.) Python\n",
    "2.) R\n",
    "3.) SQL"
   ]
  },
  {
   "cell_type": "markdown",
   "id": "03a0390b",
   "metadata": {},
   "source": [
    "|Data Science Tools|\n",
    "|:--------:|\n",
    "| Jupyter   |\n",
    "| RStudio   |\n",
    "| Visual Studio|"
   ]
  },
  {
   "cell_type": "markdown",
   "id": "cb510e8a",
   "metadata": {},
   "source": [
    "Data Science Libaries:\n",
    "caret\n",
    "skikitlearn\n",
    "scipy"
   ]
  },
  {
   "cell_type": "markdown",
   "id": "d1a15712",
   "metadata": {},
   "source": [
    "## Below are a few examples of evaluating arithmetic expressions in Python\n",
    "\n",
    "2+3\n",
    "2*4\n"
   ]
  },
  {
   "cell_type": "markdown",
   "id": "d0dfe80f",
   "metadata": {},
   "source": [
    "### This a simple arithmetic expression to mutiply then add integers"
   ]
  },
  {
   "cell_type": "code",
   "execution_count": 4,
   "id": "3ea11b91",
   "metadata": {},
   "outputs": [
    {
     "data": {
      "text/plain": [
       "17"
      ]
     },
     "execution_count": 4,
     "metadata": {},
     "output_type": "execute_result"
    }
   ],
   "source": [
    "(3*4)+5"
   ]
  },
  {
   "cell_type": "markdown",
   "id": "46d1e903",
   "metadata": {},
   "source": [
    "This will convert 200 minutes to hours by diving by 60"
   ]
  },
  {
   "cell_type": "code",
   "execution_count": 5,
   "id": "429164c6",
   "metadata": {},
   "outputs": [
    {
     "data": {
      "text/plain": [
       "3.3333333333333335"
      ]
     },
     "execution_count": 5,
     "metadata": {},
     "output_type": "execute_result"
    }
   ],
   "source": [
    "200/60"
   ]
  },
  {
   "cell_type": "markdown",
   "id": "afc4367c",
   "metadata": {},
   "source": [
    "Objectives:\n",
    "Understand integrated developement environments\n",
    "Learn key data science programming languauges\n",
    "Learn how to post and use Github repositories"
   ]
  },
  {
   "cell_type": "markdown",
   "id": "7b556304",
   "metadata": {},
   "source": [
    "## Author:\n",
    "Trevor Bryant"
   ]
  }
 ],
 "metadata": {
  "kernelspec": {
   "display_name": "Python 3 (ipykernel)",
   "language": "python",
   "name": "python3"
  },
  "language_info": {
   "codemirror_mode": {
    "name": "ipython",
    "version": 3
   },
   "file_extension": ".py",
   "mimetype": "text/x-python",
   "name": "python",
   "nbconvert_exporter": "python",
   "pygments_lexer": "ipython3",
   "version": "3.9.12"
  }
 },
 "nbformat": 4,
 "nbformat_minor": 5
}
